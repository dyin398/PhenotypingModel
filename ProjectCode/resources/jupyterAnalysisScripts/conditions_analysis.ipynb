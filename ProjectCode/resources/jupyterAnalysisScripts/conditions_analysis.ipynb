{
 "cells": [
  {
   "cell_type": "code",
   "execution_count": 1,
   "metadata": {},
   "outputs": [],
   "source": [
    "import pandas as pd\n",
    "import numpy as np\n",
    "import matplotlib.pyplot as plt\n",
    "import seaborn as sns\n",
    "import math\n",
    "import datetime"
   ]
  },
  {
   "cell_type": "code",
   "execution_count": 6,
   "metadata": {},
   "outputs": [
    {
     "data": {
      "text/html": [
       "<div>\n",
       "<style scoped>\n",
       "    .dataframe tbody tr th:only-of-type {\n",
       "        vertical-align: middle;\n",
       "    }\n",
       "\n",
       "    .dataframe tbody tr th {\n",
       "        vertical-align: top;\n",
       "    }\n",
       "\n",
       "    .dataframe thead th {\n",
       "        text-align: right;\n",
       "    }\n",
       "</style>\n",
       "<table border=\"1\" class=\"dataframe\">\n",
       "  <thead>\n",
       "    <tr style=\"text-align: right;\">\n",
       "      <th></th>\n",
       "      <th>PATIENT</th>\n",
       "      <th>CODE</th>\n",
       "      <th>DESCRIPTION</th>\n",
       "    </tr>\n",
       "  </thead>\n",
       "  <tbody>\n",
       "    <tr>\n",
       "      <th>0</th>\n",
       "      <td>92a8c64e-8cd4-fe5d-ba9a-7da402646cf0</td>\n",
       "      <td>49727002</td>\n",
       "      <td>Cough (finding)</td>\n",
       "    </tr>\n",
       "    <tr>\n",
       "      <th>1</th>\n",
       "      <td>92a8c64e-8cd4-fe5d-ba9a-7da402646cf0</td>\n",
       "      <td>248595008</td>\n",
       "      <td>Sputum finding (finding)</td>\n",
       "    </tr>\n",
       "    <tr>\n",
       "      <th>2</th>\n",
       "      <td>92a8c64e-8cd4-fe5d-ba9a-7da402646cf0</td>\n",
       "      <td>386661006</td>\n",
       "      <td>Fever (finding)</td>\n",
       "    </tr>\n",
       "    <tr>\n",
       "      <th>3</th>\n",
       "      <td>92a8c64e-8cd4-fe5d-ba9a-7da402646cf0</td>\n",
       "      <td>840544004</td>\n",
       "      <td>Suspected COVID-19</td>\n",
       "    </tr>\n",
       "    <tr>\n",
       "      <th>4</th>\n",
       "      <td>92a8c64e-8cd4-fe5d-ba9a-7da402646cf0</td>\n",
       "      <td>840539006</td>\n",
       "      <td>COVID-19</td>\n",
       "    </tr>\n",
       "    <tr>\n",
       "      <th>5</th>\n",
       "      <td>b0e16fc9-ba5a-7fe2-47f8-b0ed12cf0814</td>\n",
       "      <td>49727002</td>\n",
       "      <td>Cough (finding)</td>\n",
       "    </tr>\n",
       "    <tr>\n",
       "      <th>6</th>\n",
       "      <td>b0e16fc9-ba5a-7fe2-47f8-b0ed12cf0814</td>\n",
       "      <td>267102003</td>\n",
       "      <td>Sore throat symptom (finding)</td>\n",
       "    </tr>\n",
       "    <tr>\n",
       "      <th>7</th>\n",
       "      <td>b0e16fc9-ba5a-7fe2-47f8-b0ed12cf0814</td>\n",
       "      <td>84229001</td>\n",
       "      <td>Fatigue (finding)</td>\n",
       "    </tr>\n",
       "    <tr>\n",
       "      <th>8</th>\n",
       "      <td>b0e16fc9-ba5a-7fe2-47f8-b0ed12cf0814</td>\n",
       "      <td>267036007</td>\n",
       "      <td>Dyspnea (finding)</td>\n",
       "    </tr>\n",
       "    <tr>\n",
       "      <th>9</th>\n",
       "      <td>b0e16fc9-ba5a-7fe2-47f8-b0ed12cf0814</td>\n",
       "      <td>56018004</td>\n",
       "      <td>Wheezing (finding)</td>\n",
       "    </tr>\n",
       "  </tbody>\n",
       "</table>\n",
       "</div>"
      ],
      "text/plain": [
       "                                PATIENT       CODE  \\\n",
       "0  92a8c64e-8cd4-fe5d-ba9a-7da402646cf0   49727002   \n",
       "1  92a8c64e-8cd4-fe5d-ba9a-7da402646cf0  248595008   \n",
       "2  92a8c64e-8cd4-fe5d-ba9a-7da402646cf0  386661006   \n",
       "3  92a8c64e-8cd4-fe5d-ba9a-7da402646cf0  840544004   \n",
       "4  92a8c64e-8cd4-fe5d-ba9a-7da402646cf0  840539006   \n",
       "5  b0e16fc9-ba5a-7fe2-47f8-b0ed12cf0814   49727002   \n",
       "6  b0e16fc9-ba5a-7fe2-47f8-b0ed12cf0814  267102003   \n",
       "7  b0e16fc9-ba5a-7fe2-47f8-b0ed12cf0814   84229001   \n",
       "8  b0e16fc9-ba5a-7fe2-47f8-b0ed12cf0814  267036007   \n",
       "9  b0e16fc9-ba5a-7fe2-47f8-b0ed12cf0814   56018004   \n",
       "\n",
       "                     DESCRIPTION  \n",
       "0                Cough (finding)  \n",
       "1       Sputum finding (finding)  \n",
       "2                Fever (finding)  \n",
       "3             Suspected COVID-19  \n",
       "4                       COVID-19  \n",
       "5                Cough (finding)  \n",
       "6  Sore throat symptom (finding)  \n",
       "7              Fatigue (finding)  \n",
       "8              Dyspnea (finding)  \n",
       "9             Wheezing (finding)  "
      ]
     },
     "execution_count": 6,
     "metadata": {},
     "output_type": "execute_result"
    }
   ],
   "source": [
    "conditions = pd.read_csv(\"../inputData/conditions.csv\")\n",
    "keep = ['PATIENT', 'CODE', 'DESCRIPTION']\n",
    "conditions = conditions[keep]\n",
    "conditions.head(10)"
   ]
  },
  {
   "cell_type": "code",
   "execution_count": 7,
   "metadata": {},
   "outputs": [
    {
     "data": {
      "text/plain": [
       "PATIENT        0\n",
       "CODE           0\n",
       "DESCRIPTION    0\n",
       "dtype: int64"
      ]
     },
     "execution_count": 7,
     "metadata": {},
     "output_type": "execute_result"
    }
   ],
   "source": [
    "conditions.isnull().sum()"
   ]
  },
  {
   "cell_type": "code",
   "execution_count": 9,
   "metadata": {},
   "outputs": [
    {
     "data": {
      "text/plain": [
       "933"
      ]
     },
     "execution_count": 9,
     "metadata": {},
     "output_type": "execute_result"
    }
   ],
   "source": [
    "n = len(pd.unique(conditions['PATIENT']))\n",
    "n"
   ]
  },
  {
   "cell_type": "code",
   "execution_count": 16,
   "metadata": {},
   "outputs": [
    {
     "data": {
      "text/plain": [
       "41"
      ]
     },
     "execution_count": 16,
     "metadata": {},
     "output_type": "execute_result"
    }
   ],
   "source": [
    "len(conditions['DESCRIPTION'].value_counts())\n"
   ]
  },
  {
   "cell_type": "code",
   "execution_count": 17,
   "metadata": {},
   "outputs": [
    {
     "data": {
      "text/plain": [
       "<AxesSubplot:xlabel='DESCRIPTION', ylabel='count'>"
      ]
     },
     "execution_count": 17,
     "metadata": {},
     "output_type": "execute_result"
    },
    {
     "data": {
      "image/png": "[encoded data removed]",
      "text/plain": [
       "<Figure size 432x288 with 1 Axes>"
      ]
     },
     "metadata": {
      "needs_background": "light"
     },
     "output_type": "display_data"
    }
   ],
   "source": [
    "sns.countplot(x = 'DESCRIPTION', data=conditions)"
   ]
  },
  {
   "cell_type": "code",
   "execution_count": 19,
   "metadata": {},
   "outputs": [
    {
     "data": {
      "text/html": [
       "<div>\n",
       "<style scoped>\n",
       "    .dataframe tbody tr th:only-of-type {\n",
       "        vertical-align: middle;\n",
       "    }\n",
       "\n",
       "    .dataframe tbody tr th {\n",
       "        vertical-align: top;\n",
       "    }\n",
       "\n",
       "    .dataframe thead th {\n",
       "        text-align: right;\n",
       "    }\n",
       "</style>\n",
       "<table border=\"1\" class=\"dataframe\">\n",
       "  <thead>\n",
       "    <tr style=\"text-align: right;\">\n",
       "      <th></th>\n",
       "      <th>PATIENT</th>\n",
       "      <th>CODE</th>\n",
       "      <th>DESCRIPTION</th>\n",
       "    </tr>\n",
       "  </thead>\n",
       "  <tbody>\n",
       "    <tr>\n",
       "      <th>6208</th>\n",
       "      <td>a6f234b3-34b4-1acb-7560-34005d1519d0</td>\n",
       "      <td>49727002</td>\n",
       "      <td>Cough (finding)</td>\n",
       "    </tr>\n",
       "    <tr>\n",
       "      <th>6209</th>\n",
       "      <td>a6f234b3-34b4-1acb-7560-34005d1519d0</td>\n",
       "      <td>248595008</td>\n",
       "      <td>Sputum finding (finding)</td>\n",
       "    </tr>\n",
       "    <tr>\n",
       "      <th>6210</th>\n",
       "      <td>a6f234b3-34b4-1acb-7560-34005d1519d0</td>\n",
       "      <td>84229001</td>\n",
       "      <td>Fatigue (finding)</td>\n",
       "    </tr>\n",
       "    <tr>\n",
       "      <th>6211</th>\n",
       "      <td>a6f234b3-34b4-1acb-7560-34005d1519d0</td>\n",
       "      <td>386661006</td>\n",
       "      <td>Fever (finding)</td>\n",
       "    </tr>\n",
       "    <tr>\n",
       "      <th>6212</th>\n",
       "      <td>a6f234b3-34b4-1acb-7560-34005d1519d0</td>\n",
       "      <td>840544004</td>\n",
       "      <td>Suspected COVID-19</td>\n",
       "    </tr>\n",
       "    <tr>\n",
       "      <th>6213</th>\n",
       "      <td>a6f234b3-34b4-1acb-7560-34005d1519d0</td>\n",
       "      <td>840539006</td>\n",
       "      <td>COVID-19</td>\n",
       "    </tr>\n",
       "  </tbody>\n",
       "</table>\n",
       "</div>"
      ],
      "text/plain": [
       "                                   PATIENT       CODE  \\\n",
       "6208  a6f234b3-34b4-1acb-7560-34005d1519d0   49727002   \n",
       "6209  a6f234b3-34b4-1acb-7560-34005d1519d0  248595008   \n",
       "6210  a6f234b3-34b4-1acb-7560-34005d1519d0   84229001   \n",
       "6211  a6f234b3-34b4-1acb-7560-34005d1519d0  386661006   \n",
       "6212  a6f234b3-34b4-1acb-7560-34005d1519d0  840544004   \n",
       "6213  a6f234b3-34b4-1acb-7560-34005d1519d0  840539006   \n",
       "\n",
       "                   DESCRIPTION  \n",
       "6208           Cough (finding)  \n",
       "6209  Sputum finding (finding)  \n",
       "6210         Fatigue (finding)  \n",
       "6211           Fever (finding)  \n",
       "6212        Suspected COVID-19  \n",
       "6213                  COVID-19  "
      ]
     },
     "execution_count": 19,
     "metadata": {},
     "output_type": "execute_result"
    }
   ],
   "source": [
    "conditions[conditions.PATIENT == \"a6f234b3-34b4-1acb-7560-34005d1519d0\"]"
   ]
  }
 ],
 "metadata": {
  "kernelspec": {
   "display_name": "Python 3",
   "language": "python",
   "name": "python3"
  },
  "language_info": {
   "codemirror_mode": {
    "name": "ipython",
    "version": 3
   },
   "file_extension": ".py",
   "mimetype": "text/x-python",
   "name": "python",
   "nbconvert_exporter": "python",
   "pygments_lexer": "ipython3",
   "version": "3.8.5"
  }
 },
 "nbformat": 4,
 "nbformat_minor": 4
}
