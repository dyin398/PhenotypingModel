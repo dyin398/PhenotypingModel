{
 "cells": [
  {
   "cell_type": "code",
   "execution_count": 2,
   "metadata": {},
   "outputs": [],
   "source": [
    "import pandas as pd\n",
    "import numpy as np\n",
    "import matplotlib.pyplot as plt\n",
    "import seaborn as sns\n",
    "import math\n",
    "import datetime"
   ]
  },
  {
   "cell_type": "code",
   "execution_count": 5,
   "metadata": {},
   "outputs": [
    {
     "data": {
      "text/html": [
       "<div>\n",
       "<style scoped>\n",
       "    .dataframe tbody tr th:only-of-type {\n",
       "        vertical-align: middle;\n",
       "    }\n",
       "\n",
       "    .dataframe tbody tr th {\n",
       "        vertical-align: top;\n",
       "    }\n",
       "\n",
       "    .dataframe thead th {\n",
       "        text-align: right;\n",
       "    }\n",
       "</style>\n",
       "<table border=\"1\" class=\"dataframe\">\n",
       "  <thead>\n",
       "    <tr style=\"text-align: right;\">\n",
       "      <th></th>\n",
       "      <th>DATE</th>\n",
       "      <th>PATIENT</th>\n",
       "      <th>ENCOUNTER</th>\n",
       "      <th>CODE</th>\n",
       "      <th>DESCRIPTION</th>\n",
       "      <th>BASE_COST</th>\n",
       "      <th>REASONCODE</th>\n",
       "      <th>REASONDESCRIPTION</th>\n",
       "    </tr>\n",
       "  </thead>\n",
       "  <tbody>\n",
       "    <tr>\n",
       "      <th>0</th>\n",
       "      <td>2020-03-05T05:21:41Z</td>\n",
       "      <td>92a8c64e-8cd4-fe5d-ba9a-7da402646cf0</td>\n",
       "      <td>0d3d5e03-fcba-20fe-ee53-298bbe0e230b</td>\n",
       "      <td>261352009</td>\n",
       "      <td>Face mask (physical object)</td>\n",
       "      <td>2.84</td>\n",
       "      <td>840544004.0</td>\n",
       "      <td>Suspected COVID-19</td>\n",
       "    </tr>\n",
       "    <tr>\n",
       "      <th>1</th>\n",
       "      <td>2020-02-25T08:16:19Z</td>\n",
       "      <td>b0e16fc9-ba5a-7fe2-47f8-b0ed12cf0814</td>\n",
       "      <td>a7e9fbdf-b20d-7ffe-dd4e-ee2659a9d6db</td>\n",
       "      <td>261352009</td>\n",
       "      <td>Face mask (physical object)</td>\n",
       "      <td>4.58</td>\n",
       "      <td>840544004.0</td>\n",
       "      <td>Suspected COVID-19</td>\n",
       "    </tr>\n",
       "    <tr>\n",
       "      <th>2</th>\n",
       "      <td>2020-03-10T12:16:40Z</td>\n",
       "      <td>4bdf7658-6cc6-fa39-1265-c38365326997</td>\n",
       "      <td>8a9ab871-ef38-e80b-8928-e1030c50c45b</td>\n",
       "      <td>261352009</td>\n",
       "      <td>Face mask (physical object)</td>\n",
       "      <td>2.91</td>\n",
       "      <td>840544004.0</td>\n",
       "      <td>Suspected COVID-19</td>\n",
       "    </tr>\n",
       "    <tr>\n",
       "      <th>3</th>\n",
       "      <td>2020-02-23T13:36:04Z</td>\n",
       "      <td>f6e97f3f-40c3-940b-8432-7b012927ae3c</td>\n",
       "      <td>89b33769-cc1e-b04d-3fec-30a0b0962fee</td>\n",
       "      <td>261352009</td>\n",
       "      <td>Face mask (physical object)</td>\n",
       "      <td>2.81</td>\n",
       "      <td>840544004.0</td>\n",
       "      <td>Suspected COVID-19</td>\n",
       "    </tr>\n",
       "    <tr>\n",
       "      <th>4</th>\n",
       "      <td>2020-03-07T11:48:39Z</td>\n",
       "      <td>08d98ab4-4d82-e7dc-bfd3-00ad3ba43890</td>\n",
       "      <td>53a049f8-9536-8d6d-e74d-c62d02db3679</td>\n",
       "      <td>261352009</td>\n",
       "      <td>Face mask (physical object)</td>\n",
       "      <td>4.46</td>\n",
       "      <td>840544004.0</td>\n",
       "      <td>Suspected COVID-19</td>\n",
       "    </tr>\n",
       "    <tr>\n",
       "      <th>5</th>\n",
       "      <td>2020-02-28T22:08:10Z</td>\n",
       "      <td>a9614040-8dae-1a01-3444-5107294a0302</td>\n",
       "      <td>082a40e1-9270-bf51-1b1d-4882de1b089e</td>\n",
       "      <td>261352009</td>\n",
       "      <td>Face mask (physical object)</td>\n",
       "      <td>1.98</td>\n",
       "      <td>840544004.0</td>\n",
       "      <td>Suspected COVID-19</td>\n",
       "    </tr>\n",
       "    <tr>\n",
       "      <th>6</th>\n",
       "      <td>2020-03-13T18:04:07Z</td>\n",
       "      <td>98a17296-99b5-7bda-d231-f4d0b7c1685d</td>\n",
       "      <td>5d263ab7-74fb-e0f8-c5e1-8489ebc40351</td>\n",
       "      <td>261352009</td>\n",
       "      <td>Face mask (physical object)</td>\n",
       "      <td>1.39</td>\n",
       "      <td>840544004.0</td>\n",
       "      <td>Suspected COVID-19</td>\n",
       "    </tr>\n",
       "    <tr>\n",
       "      <th>7</th>\n",
       "      <td>2020-03-08T21:27:37Z</td>\n",
       "      <td>e83ac060-4e23-0cf2-48d3-6c139699357b</td>\n",
       "      <td>32b9d7d7-b8a0-c0e4-7817-1e11a36d41f2</td>\n",
       "      <td>261352009</td>\n",
       "      <td>Face mask (physical object)</td>\n",
       "      <td>4.31</td>\n",
       "      <td>840544004.0</td>\n",
       "      <td>Suspected COVID-19</td>\n",
       "    </tr>\n",
       "    <tr>\n",
       "      <th>8</th>\n",
       "      <td>2020-03-06T09:59:01Z</td>\n",
       "      <td>e6b96f46-48e4-df8b-db26-85654ebd0a0c</td>\n",
       "      <td>9e2408fe-a271-6fc0-6409-2b794b4d83f4</td>\n",
       "      <td>261352009</td>\n",
       "      <td>Face mask (physical object)</td>\n",
       "      <td>3.11</td>\n",
       "      <td>840544004.0</td>\n",
       "      <td>Suspected COVID-19</td>\n",
       "    </tr>\n",
       "    <tr>\n",
       "      <th>9</th>\n",
       "      <td>2020-03-06T07:41:02Z</td>\n",
       "      <td>39e45254-3116-82ea-0bd1-d9b154703535</td>\n",
       "      <td>bf94a348-ac6e-697b-35ef-9048607fa15a</td>\n",
       "      <td>261352009</td>\n",
       "      <td>Face mask (physical object)</td>\n",
       "      <td>2.49</td>\n",
       "      <td>840544004.0</td>\n",
       "      <td>Suspected COVID-19</td>\n",
       "    </tr>\n",
       "  </tbody>\n",
       "</table>\n",
       "</div>"
      ],
      "text/plain": [
       "                   DATE                               PATIENT  \\\n",
       "0  2020-03-05T05:21:41Z  92a8c64e-8cd4-fe5d-ba9a-7da402646cf0   \n",
       "1  2020-02-25T08:16:19Z  b0e16fc9-ba5a-7fe2-47f8-b0ed12cf0814   \n",
       "2  2020-03-10T12:16:40Z  4bdf7658-6cc6-fa39-1265-c38365326997   \n",
       "3  2020-02-23T13:36:04Z  f6e97f3f-40c3-940b-8432-7b012927ae3c   \n",
       "4  2020-03-07T11:48:39Z  08d98ab4-4d82-e7dc-bfd3-00ad3ba43890   \n",
       "5  2020-02-28T22:08:10Z  a9614040-8dae-1a01-3444-5107294a0302   \n",
       "6  2020-03-13T18:04:07Z  98a17296-99b5-7bda-d231-f4d0b7c1685d   \n",
       "7  2020-03-08T21:27:37Z  e83ac060-4e23-0cf2-48d3-6c139699357b   \n",
       "8  2020-03-06T09:59:01Z  e6b96f46-48e4-df8b-db26-85654ebd0a0c   \n",
       "9  2020-03-06T07:41:02Z  39e45254-3116-82ea-0bd1-d9b154703535   \n",
       "\n",
       "                              ENCOUNTER       CODE  \\\n",
       "0  0d3d5e03-fcba-20fe-ee53-298bbe0e230b  261352009   \n",
       "1  a7e9fbdf-b20d-7ffe-dd4e-ee2659a9d6db  261352009   \n",
       "2  8a9ab871-ef38-e80b-8928-e1030c50c45b  261352009   \n",
       "3  89b33769-cc1e-b04d-3fec-30a0b0962fee  261352009   \n",
       "4  53a049f8-9536-8d6d-e74d-c62d02db3679  261352009   \n",
       "5  082a40e1-9270-bf51-1b1d-4882de1b089e  261352009   \n",
       "6  5d263ab7-74fb-e0f8-c5e1-8489ebc40351  261352009   \n",
       "7  32b9d7d7-b8a0-c0e4-7817-1e11a36d41f2  261352009   \n",
       "8  9e2408fe-a271-6fc0-6409-2b794b4d83f4  261352009   \n",
       "9  bf94a348-ac6e-697b-35ef-9048607fa15a  261352009   \n",
       "\n",
       "                   DESCRIPTION  BASE_COST   REASONCODE   REASONDESCRIPTION  \n",
       "0  Face mask (physical object)       2.84  840544004.0  Suspected COVID-19  \n",
       "1  Face mask (physical object)       4.58  840544004.0  Suspected COVID-19  \n",
       "2  Face mask (physical object)       2.91  840544004.0  Suspected COVID-19  \n",
       "3  Face mask (physical object)       2.81  840544004.0  Suspected COVID-19  \n",
       "4  Face mask (physical object)       4.46  840544004.0  Suspected COVID-19  \n",
       "5  Face mask (physical object)       1.98  840544004.0  Suspected COVID-19  \n",
       "6  Face mask (physical object)       1.39  840544004.0  Suspected COVID-19  \n",
       "7  Face mask (physical object)       4.31  840544004.0  Suspected COVID-19  \n",
       "8  Face mask (physical object)       3.11  840544004.0  Suspected COVID-19  \n",
       "9  Face mask (physical object)       2.49  840544004.0  Suspected COVID-19  "
      ]
     },
     "execution_count": 5,
     "metadata": {},
     "output_type": "execute_result"
    }
   ],
   "source": [
    "procedures = pd.read_csv(\"../inputData/procedures.csv\")\n",
    "procedures.head(10)"
   ]
  },
  {
   "cell_type": "code",
   "execution_count": 11,
   "metadata": {},
   "outputs": [
    {
     "data": {
      "text/plain": [
       "DATE                   0\n",
       "PATIENT                0\n",
       "ENCOUNTER              0\n",
       "CODE                   0\n",
       "DESCRIPTION            0\n",
       "BASE_COST              0\n",
       "REASONCODE           218\n",
       "REASONDESCRIPTION    218\n",
       "dtype: int64"
      ]
     },
     "execution_count": 11,
     "metadata": {},
     "output_type": "execute_result"
    }
   ],
   "source": [
    "procedures.isnull().sum()"
   ]
  },
  {
   "cell_type": "code",
   "execution_count": 13,
   "metadata": {},
   "outputs": [
    {
     "data": {
      "text/plain": [
       "<AxesSubplot:ylabel='Frequency'>"
      ]
     },
     "execution_count": 13,
     "metadata": {},
     "output_type": "execute_result"
    },
    {
     "data": {
      "image/png": "[encoded data removed]",
      "text/plain": [
       "<Figure size 432x288 with 1 Axes>"
      ]
     },
     "metadata": {
      "needs_background": "light"
     },
     "output_type": "display_data"
    }
   ],
   "source": [
    "procedures['PATIENT'].value_counts().plot.hist()"
   ]
  },
  {
   "cell_type": "code",
   "execution_count": 14,
   "metadata": {},
   "outputs": [
    {
     "data": {
      "text/plain": [
       "Hypoxemia (disorder)                    2839\n",
       "Suspected COVID-19                       895\n",
       "Atrial Fibrillation                      227\n",
       "Acute respiratory failure (disorder)      76\n",
       "Septic shock (disorder)                   74\n",
       "Myocardial Infarction                     63\n",
       "Stroke                                    42\n",
       "Cardiac Arrest                            39\n",
       "COVID-19                                   1\n",
       "Name: REASONDESCRIPTION, dtype: int64"
      ]
     },
     "execution_count": 14,
     "metadata": {},
     "output_type": "execute_result"
    }
   ],
   "source": [
    "procedures['REASONDESCRIPTION'].value_counts()"
   ]
  },
  {
   "cell_type": "code",
   "execution_count": null,
   "metadata": {},
   "outputs": [],
   "source": []
  }
 ],
 "metadata": {
  "kernelspec": {
   "display_name": "Python 3",
   "language": "python",
   "name": "python3"
  },
  "language_info": {
   "codemirror_mode": {
    "name": "ipython",
    "version": 3
   },
   "file_extension": ".py",
   "mimetype": "text/x-python",
   "name": "python",
   "nbconvert_exporter": "python",
   "pygments_lexer": "ipython3",
   "version": "3.8.5"
  }
 },
 "nbformat": 4,
 "nbformat_minor": 4
}
