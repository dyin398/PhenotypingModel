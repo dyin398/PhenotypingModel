{
 "cells": [
  {
   "cell_type": "code",
   "execution_count": 94,
   "metadata": {},
   "outputs": [],
   "source": [
    "import pandas as pd\n",
    "import numpy as np\n",
    "import matplotlib.pyplot as plt\n",
    "import seaborn as sns\n",
    "import math\n",
    "import datetime"
   ]
  },
  {
   "cell_type": "code",
   "execution_count": 125,
   "metadata": {},
   "outputs": [
    {
     "data": {
      "text/html": [
       "<div>\n",
       "<style scoped>\n",
       "    .dataframe tbody tr th:only-of-type {\n",
       "        vertical-align: middle;\n",
       "    }\n",
       "\n",
       "    .dataframe tbody tr th {\n",
       "        vertical-align: top;\n",
       "    }\n",
       "\n",
       "    .dataframe thead th {\n",
       "        text-align: right;\n",
       "    }\n",
       "</style>\n",
       "<table border=\"1\" class=\"dataframe\">\n",
       "  <thead>\n",
       "    <tr style=\"text-align: right;\">\n",
       "      <th></th>\n",
       "      <th>Id</th>\n",
       "      <th>BIRTHDATE</th>\n",
       "      <th>MARITAL</th>\n",
       "      <th>RACE</th>\n",
       "      <th>GENDER</th>\n",
       "      <th>CITY</th>\n",
       "    </tr>\n",
       "  </thead>\n",
       "  <tbody>\n",
       "    <tr>\n",
       "      <th>0</th>\n",
       "      <td>92a8c64e-8cd4-fe5d-ba9a-7da402646cf0</td>\n",
       "      <td>1980-01-07</td>\n",
       "      <td>S</td>\n",
       "      <td>white</td>\n",
       "      <td>F</td>\n",
       "      <td>Westfield</td>\n",
       "    </tr>\n",
       "    <tr>\n",
       "      <th>1</th>\n",
       "      <td>b0e16fc9-ba5a-7fe2-47f8-b0ed12cf0814</td>\n",
       "      <td>1975-07-19</td>\n",
       "      <td>M</td>\n",
       "      <td>white</td>\n",
       "      <td>F</td>\n",
       "      <td>Malden</td>\n",
       "    </tr>\n",
       "    <tr>\n",
       "      <th>2</th>\n",
       "      <td>4bdf7658-6cc6-fa39-1265-c38365326997</td>\n",
       "      <td>1983-06-25</td>\n",
       "      <td>M</td>\n",
       "      <td>white</td>\n",
       "      <td>M</td>\n",
       "      <td>Grafton</td>\n",
       "    </tr>\n",
       "    <tr>\n",
       "      <th>3</th>\n",
       "      <td>f6e97f3f-40c3-940b-8432-7b012927ae3c</td>\n",
       "      <td>1995-01-25</td>\n",
       "      <td>NaN</td>\n",
       "      <td>white</td>\n",
       "      <td>M</td>\n",
       "      <td>Boston</td>\n",
       "    </tr>\n",
       "    <tr>\n",
       "      <th>4</th>\n",
       "      <td>08d98ab4-4d82-e7dc-bfd3-00ad3ba43890</td>\n",
       "      <td>1956-09-11</td>\n",
       "      <td>M</td>\n",
       "      <td>white</td>\n",
       "      <td>F</td>\n",
       "      <td>Sunderland</td>\n",
       "    </tr>\n",
       "    <tr>\n",
       "      <th>5</th>\n",
       "      <td>98a17296-99b5-7bda-d231-f4d0b7c1685d</td>\n",
       "      <td>2009-01-14</td>\n",
       "      <td>NaN</td>\n",
       "      <td>white</td>\n",
       "      <td>F</td>\n",
       "      <td>Attleboro</td>\n",
       "    </tr>\n",
       "    <tr>\n",
       "      <th>6</th>\n",
       "      <td>a9614040-8dae-1a01-3444-5107294a0302</td>\n",
       "      <td>2003-10-19</td>\n",
       "      <td>NaN</td>\n",
       "      <td>white</td>\n",
       "      <td>F</td>\n",
       "      <td>Taunton</td>\n",
       "    </tr>\n",
       "    <tr>\n",
       "      <th>7</th>\n",
       "      <td>e83ac060-4e23-0cf2-48d3-6c139699357b</td>\n",
       "      <td>2009-07-04</td>\n",
       "      <td>NaN</td>\n",
       "      <td>white</td>\n",
       "      <td>F</td>\n",
       "      <td>Boston</td>\n",
       "    </tr>\n",
       "    <tr>\n",
       "      <th>8</th>\n",
       "      <td>ad36dd38-b43d-40a4-5538-de92e14dce66</td>\n",
       "      <td>1996-08-31</td>\n",
       "      <td>NaN</td>\n",
       "      <td>white</td>\n",
       "      <td>F</td>\n",
       "      <td>Plymouth</td>\n",
       "    </tr>\n",
       "    <tr>\n",
       "      <th>9</th>\n",
       "      <td>e6b96f46-48e4-df8b-db26-85654ebd0a0c</td>\n",
       "      <td>2009-05-07</td>\n",
       "      <td>NaN</td>\n",
       "      <td>white</td>\n",
       "      <td>M</td>\n",
       "      <td>Worcester</td>\n",
       "    </tr>\n",
       "  </tbody>\n",
       "</table>\n",
       "</div>"
      ],
      "text/plain": [
       "                                     Id   BIRTHDATE MARITAL   RACE GENDER  \\\n",
       "0  92a8c64e-8cd4-fe5d-ba9a-7da402646cf0  1980-01-07       S  white      F   \n",
       "1  b0e16fc9-ba5a-7fe2-47f8-b0ed12cf0814  1975-07-19       M  white      F   \n",
       "2  4bdf7658-6cc6-fa39-1265-c38365326997  1983-06-25       M  white      M   \n",
       "3  f6e97f3f-40c3-940b-8432-7b012927ae3c  1995-01-25     NaN  white      M   \n",
       "4  08d98ab4-4d82-e7dc-bfd3-00ad3ba43890  1956-09-11       M  white      F   \n",
       "5  98a17296-99b5-7bda-d231-f4d0b7c1685d  2009-01-14     NaN  white      F   \n",
       "6  a9614040-8dae-1a01-3444-5107294a0302  2003-10-19     NaN  white      F   \n",
       "7  e83ac060-4e23-0cf2-48d3-6c139699357b  2009-07-04     NaN  white      F   \n",
       "8  ad36dd38-b43d-40a4-5538-de92e14dce66  1996-08-31     NaN  white      F   \n",
       "9  e6b96f46-48e4-df8b-db26-85654ebd0a0c  2009-05-07     NaN  white      M   \n",
       "\n",
       "         CITY  \n",
       "0   Westfield  \n",
       "1      Malden  \n",
       "2     Grafton  \n",
       "3      Boston  \n",
       "4  Sunderland  \n",
       "5   Attleboro  \n",
       "6     Taunton  \n",
       "7      Boston  \n",
       "8    Plymouth  \n",
       "9   Worcester  "
      ]
     },
     "execution_count": 125,
     "metadata": {},
     "output_type": "execute_result"
    }
   ],
   "source": [
    "patients_data = pd.read_csv(\"../inputData/patients.csv\")\n",
    "features_to_keep = ['Id', 'BIRTHDATE', 'MARITAL', 'RACE', 'GENDER', 'CITY']\n",
    "patients_data = patients_data[features_to_keep]\n",
    "patients_data.head(10)"
   ]
  },
  {
   "cell_type": "code",
   "execution_count": 116,
   "metadata": {},
   "outputs": [
    {
     "name": "stdout",
     "output_type": "stream",
     "text": [
      "There are 1046 patients in this dataset.\n"
     ]
    }
   ],
   "source": [
    "print(\"There are \" + str(len(patients_data)) + \" patients in this dataset.\")"
   ]
  },
  {
   "cell_type": "markdown",
   "metadata": {},
   "source": [
    "## Analysing Data"
   ]
  },
  {
   "cell_type": "code",
   "execution_count": 117,
   "metadata": {},
   "outputs": [
    {
     "data": {
      "text/plain": [
       "<AxesSubplot:xlabel='RACE', ylabel='count'>"
      ]
     },
     "execution_count": 117,
     "metadata": {},
     "output_type": "execute_result"
    },
    {
     "data": {
      "image/png": "[encoded data removed]",
      "text/plain": [
       "<Figure size 432x288 with 1 Axes>"
      ]
     },
     "metadata": {
      "needs_background": "light"
     },
     "output_type": "display_data"
    }
   ],
   "source": [
    "sns.countplot(x=\"RACE\", hue=\"MARITAL\", data=patients_data)"
   ]
  },
  {
   "cell_type": "code",
   "execution_count": 118,
   "metadata": {},
   "outputs": [
    {
     "name": "stdout",
     "output_type": "stream",
     "text": [
      "259\n"
     ]
    }
   ],
   "source": [
    "n = len(pd.unique(patients_data['CITY']))\n",
    "print(n)"
   ]
  },
  {
   "cell_type": "code",
   "execution_count": 119,
   "metadata": {},
   "outputs": [
    {
     "data": {
      "text/plain": [
       "<AxesSubplot:>"
      ]
     },
     "execution_count": 119,
     "metadata": {},
     "output_type": "execute_result"
    },
    {
     "data": {
      "image/png": "[encoded data removed]",
      "text/plain": [
       "<Figure size 432x288 with 2 Axes>"
      ]
     },
     "metadata": {
      "needs_background": "light"
     },
     "output_type": "display_data"
    }
   ],
   "source": [
    "patients_data.isnull().sum()\n",
    "sns.heatmap(patients_data.isnull(), cmap=\"viridis\")"
   ]
  },
  {
   "cell_type": "code",
   "execution_count": 122,
   "metadata": {},
   "outputs": [
    {
     "data": {
      "text/plain": [
       "<AxesSubplot:xlabel='CITY', ylabel='count'>"
      ]
     },
     "execution_count": 122,
     "metadata": {},
     "output_type": "execute_result"
    },
    {
     "data": {
      "image/png": "[encoded data removed]",
      "text/plain": [
       "<Figure size 432x288 with 1 Axes>"
      ]
     },
     "metadata": {
      "needs_background": "light"
     },
     "output_type": "display_data"
    }
   ],
   "source": [
    "sns.countplot(x=\"CITY\", data = patients_data)"
   ]
  },
  {
   "cell_type": "markdown",
   "metadata": {},
   "source": [
    "## Impute data"
   ]
  },
  {
   "cell_type": "code",
   "execution_count": 126,
   "metadata": {},
   "outputs": [
    {
     "data": {
      "text/html": [
       "<div>\n",
       "<style scoped>\n",
       "    .dataframe tbody tr th:only-of-type {\n",
       "        vertical-align: middle;\n",
       "    }\n",
       "\n",
       "    .dataframe tbody tr th {\n",
       "        vertical-align: top;\n",
       "    }\n",
       "\n",
       "    .dataframe thead th {\n",
       "        text-align: right;\n",
       "    }\n",
       "</style>\n",
       "<table border=\"1\" class=\"dataframe\">\n",
       "  <thead>\n",
       "    <tr style=\"text-align: right;\">\n",
       "      <th></th>\n",
       "      <th>Id</th>\n",
       "      <th>BIRTHDATE</th>\n",
       "      <th>MARITAL</th>\n",
       "      <th>RACE</th>\n",
       "      <th>GENDER</th>\n",
       "      <th>CITY</th>\n",
       "    </tr>\n",
       "  </thead>\n",
       "  <tbody>\n",
       "    <tr>\n",
       "      <th>0</th>\n",
       "      <td>92a8c64e-8cd4-fe5d-ba9a-7da402646cf0</td>\n",
       "      <td>1980-01-07</td>\n",
       "      <td>S</td>\n",
       "      <td>white</td>\n",
       "      <td>F</td>\n",
       "      <td>Westfield</td>\n",
       "    </tr>\n",
       "    <tr>\n",
       "      <th>1</th>\n",
       "      <td>b0e16fc9-ba5a-7fe2-47f8-b0ed12cf0814</td>\n",
       "      <td>1975-07-19</td>\n",
       "      <td>M</td>\n",
       "      <td>white</td>\n",
       "      <td>F</td>\n",
       "      <td>Malden</td>\n",
       "    </tr>\n",
       "    <tr>\n",
       "      <th>2</th>\n",
       "      <td>4bdf7658-6cc6-fa39-1265-c38365326997</td>\n",
       "      <td>1983-06-25</td>\n",
       "      <td>M</td>\n",
       "      <td>white</td>\n",
       "      <td>M</td>\n",
       "      <td>Grafton</td>\n",
       "    </tr>\n",
       "    <tr>\n",
       "      <th>3</th>\n",
       "      <td>f6e97f3f-40c3-940b-8432-7b012927ae3c</td>\n",
       "      <td>1995-01-25</td>\n",
       "      <td>S</td>\n",
       "      <td>white</td>\n",
       "      <td>M</td>\n",
       "      <td>Boston</td>\n",
       "    </tr>\n",
       "    <tr>\n",
       "      <th>4</th>\n",
       "      <td>08d98ab4-4d82-e7dc-bfd3-00ad3ba43890</td>\n",
       "      <td>1956-09-11</td>\n",
       "      <td>M</td>\n",
       "      <td>white</td>\n",
       "      <td>F</td>\n",
       "      <td>Sunderland</td>\n",
       "    </tr>\n",
       "    <tr>\n",
       "      <th>5</th>\n",
       "      <td>98a17296-99b5-7bda-d231-f4d0b7c1685d</td>\n",
       "      <td>2009-01-14</td>\n",
       "      <td>S</td>\n",
       "      <td>white</td>\n",
       "      <td>F</td>\n",
       "      <td>Attleboro</td>\n",
       "    </tr>\n",
       "    <tr>\n",
       "      <th>6</th>\n",
       "      <td>a9614040-8dae-1a01-3444-5107294a0302</td>\n",
       "      <td>2003-10-19</td>\n",
       "      <td>S</td>\n",
       "      <td>white</td>\n",
       "      <td>F</td>\n",
       "      <td>Taunton</td>\n",
       "    </tr>\n",
       "    <tr>\n",
       "      <th>7</th>\n",
       "      <td>e83ac060-4e23-0cf2-48d3-6c139699357b</td>\n",
       "      <td>2009-07-04</td>\n",
       "      <td>S</td>\n",
       "      <td>white</td>\n",
       "      <td>F</td>\n",
       "      <td>Boston</td>\n",
       "    </tr>\n",
       "    <tr>\n",
       "      <th>8</th>\n",
       "      <td>ad36dd38-b43d-40a4-5538-de92e14dce66</td>\n",
       "      <td>1996-08-31</td>\n",
       "      <td>S</td>\n",
       "      <td>white</td>\n",
       "      <td>F</td>\n",
       "      <td>Plymouth</td>\n",
       "    </tr>\n",
       "    <tr>\n",
       "      <th>9</th>\n",
       "      <td>e6b96f46-48e4-df8b-db26-85654ebd0a0c</td>\n",
       "      <td>2009-05-07</td>\n",
       "      <td>S</td>\n",
       "      <td>white</td>\n",
       "      <td>M</td>\n",
       "      <td>Worcester</td>\n",
       "    </tr>\n",
       "  </tbody>\n",
       "</table>\n",
       "</div>"
      ],
      "text/plain": [
       "                                     Id   BIRTHDATE MARITAL   RACE GENDER  \\\n",
       "0  92a8c64e-8cd4-fe5d-ba9a-7da402646cf0  1980-01-07       S  white      F   \n",
       "1  b0e16fc9-ba5a-7fe2-47f8-b0ed12cf0814  1975-07-19       M  white      F   \n",
       "2  4bdf7658-6cc6-fa39-1265-c38365326997  1983-06-25       M  white      M   \n",
       "3  f6e97f3f-40c3-940b-8432-7b012927ae3c  1995-01-25       S  white      M   \n",
       "4  08d98ab4-4d82-e7dc-bfd3-00ad3ba43890  1956-09-11       M  white      F   \n",
       "5  98a17296-99b5-7bda-d231-f4d0b7c1685d  2009-01-14       S  white      F   \n",
       "6  a9614040-8dae-1a01-3444-5107294a0302  2003-10-19       S  white      F   \n",
       "7  e83ac060-4e23-0cf2-48d3-6c139699357b  2009-07-04       S  white      F   \n",
       "8  ad36dd38-b43d-40a4-5538-de92e14dce66  1996-08-31       S  white      F   \n",
       "9  e6b96f46-48e4-df8b-db26-85654ebd0a0c  2009-05-07       S  white      M   \n",
       "\n",
       "         CITY  \n",
       "0   Westfield  \n",
       "1      Malden  \n",
       "2     Grafton  \n",
       "3      Boston  \n",
       "4  Sunderland  \n",
       "5   Attleboro  \n",
       "6     Taunton  \n",
       "7      Boston  \n",
       "8    Plymouth  \n",
       "9   Worcester  "
      ]
     },
     "execution_count": 126,
     "metadata": {},
     "output_type": "execute_result"
    }
   ],
   "source": [
    "patients_data[\"MARITAL\"].fillna('S', inplace=True)\n",
    "patients_data.head(10)"
   ]
  },
  {
   "cell_type": "markdown",
   "metadata": {},
   "source": [
    "# Transform Data"
   ]
  },
  {
   "cell_type": "code",
   "execution_count": 127,
   "metadata": {},
   "outputs": [
    {
     "data": {
      "text/html": [
       "<div>\n",
       "<style scoped>\n",
       "    .dataframe tbody tr th:only-of-type {\n",
       "        vertical-align: middle;\n",
       "    }\n",
       "\n",
       "    .dataframe tbody tr th {\n",
       "        vertical-align: top;\n",
       "    }\n",
       "\n",
       "    .dataframe thead th {\n",
       "        text-align: right;\n",
       "    }\n",
       "</style>\n",
       "<table border=\"1\" class=\"dataframe\">\n",
       "  <thead>\n",
       "    <tr style=\"text-align: right;\">\n",
       "      <th></th>\n",
       "      <th>Id</th>\n",
       "      <th>AGE</th>\n",
       "      <th>MARRIED</th>\n",
       "      <th>MALE</th>\n",
       "    </tr>\n",
       "  </thead>\n",
       "  <tbody>\n",
       "    <tr>\n",
       "      <th>0</th>\n",
       "      <td>92a8c64e-8cd4-fe5d-ba9a-7da402646cf0</td>\n",
       "      <td>41</td>\n",
       "      <td>0</td>\n",
       "      <td>0</td>\n",
       "    </tr>\n",
       "    <tr>\n",
       "      <th>1</th>\n",
       "      <td>b0e16fc9-ba5a-7fe2-47f8-b0ed12cf0814</td>\n",
       "      <td>46</td>\n",
       "      <td>1</td>\n",
       "      <td>0</td>\n",
       "    </tr>\n",
       "    <tr>\n",
       "      <th>2</th>\n",
       "      <td>4bdf7658-6cc6-fa39-1265-c38365326997</td>\n",
       "      <td>38</td>\n",
       "      <td>1</td>\n",
       "      <td>1</td>\n",
       "    </tr>\n",
       "    <tr>\n",
       "      <th>3</th>\n",
       "      <td>f6e97f3f-40c3-940b-8432-7b012927ae3c</td>\n",
       "      <td>26</td>\n",
       "      <td>0</td>\n",
       "      <td>1</td>\n",
       "    </tr>\n",
       "    <tr>\n",
       "      <th>4</th>\n",
       "      <td>08d98ab4-4d82-e7dc-bfd3-00ad3ba43890</td>\n",
       "      <td>65</td>\n",
       "      <td>1</td>\n",
       "      <td>0</td>\n",
       "    </tr>\n",
       "    <tr>\n",
       "      <th>5</th>\n",
       "      <td>98a17296-99b5-7bda-d231-f4d0b7c1685d</td>\n",
       "      <td>12</td>\n",
       "      <td>0</td>\n",
       "      <td>0</td>\n",
       "    </tr>\n",
       "    <tr>\n",
       "      <th>6</th>\n",
       "      <td>a9614040-8dae-1a01-3444-5107294a0302</td>\n",
       "      <td>18</td>\n",
       "      <td>0</td>\n",
       "      <td>0</td>\n",
       "    </tr>\n",
       "    <tr>\n",
       "      <th>7</th>\n",
       "      <td>e83ac060-4e23-0cf2-48d3-6c139699357b</td>\n",
       "      <td>12</td>\n",
       "      <td>0</td>\n",
       "      <td>0</td>\n",
       "    </tr>\n",
       "    <tr>\n",
       "      <th>8</th>\n",
       "      <td>ad36dd38-b43d-40a4-5538-de92e14dce66</td>\n",
       "      <td>25</td>\n",
       "      <td>0</td>\n",
       "      <td>0</td>\n",
       "    </tr>\n",
       "    <tr>\n",
       "      <th>9</th>\n",
       "      <td>e6b96f46-48e4-df8b-db26-85654ebd0a0c</td>\n",
       "      <td>12</td>\n",
       "      <td>0</td>\n",
       "      <td>1</td>\n",
       "    </tr>\n",
       "  </tbody>\n",
       "</table>\n",
       "</div>"
      ],
      "text/plain": [
       "                                     Id  AGE  MARRIED  MALE\n",
       "0  92a8c64e-8cd4-fe5d-ba9a-7da402646cf0   41        0     0\n",
       "1  b0e16fc9-ba5a-7fe2-47f8-b0ed12cf0814   46        1     0\n",
       "2  4bdf7658-6cc6-fa39-1265-c38365326997   38        1     1\n",
       "3  f6e97f3f-40c3-940b-8432-7b012927ae3c   26        0     1\n",
       "4  08d98ab4-4d82-e7dc-bfd3-00ad3ba43890   65        1     0\n",
       "5  98a17296-99b5-7bda-d231-f4d0b7c1685d   12        0     0\n",
       "6  a9614040-8dae-1a01-3444-5107294a0302   18        0     0\n",
       "7  e83ac060-4e23-0cf2-48d3-6c139699357b   12        0     0\n",
       "8  ad36dd38-b43d-40a4-5538-de92e14dce66   25        0     0\n",
       "9  e6b96f46-48e4-df8b-db26-85654ebd0a0c   12        0     1"
      ]
     },
     "execution_count": 127,
     "metadata": {},
     "output_type": "execute_result"
    }
   ],
   "source": [
    "def getAge(date):\n",
    "    if isinstance(date, int):\n",
    "        return date\n",
    "    curryear = datetime.datetime.now().year\n",
    "    birthyear = datetime.datetime.strptime(date, '%Y-%m-%d').year\n",
    "    return curryear-birthyear\n",
    "\n",
    "def isMarried(status):\n",
    "    if status == \"S\":\n",
    "        return 0\n",
    "    elif status == \"M\":\n",
    "        return 1\n",
    "    else:\n",
    "        return status\n",
    "\n",
    "def isMale(gender):\n",
    "    if gender == \"F\":\n",
    "        return 0\n",
    "    elif gender == \"M\":\n",
    "        return 1\n",
    "    else:\n",
    "        return gender\n",
    "patients_data[\"BIRTHDATE\"] = patients_data[\"BIRTHDATE\"].apply(getAge)\n",
    "patients_data[\"MARITAL\"] = patients_data[\"MARITAL\"].apply(isMarried)\n",
    "patients_data[\"GENDER\"] = patients_data[\"GENDER\"].apply(isMale)\n",
    "patients_data.rename({'BIRTHDATE': 'AGE', 'MARITAL': 'MARRIED', 'GENDER': 'MALE'}, axis=1, inplace=True)\n",
    "b\n",
    "patients_data.head(10)"
   ]
  },
  {
   "cell_type": "code",
   "execution_count": 128,
   "metadata": {},
   "outputs": [
    {
     "data": {
      "text/html": [
       "<div>\n",
       "<style scoped>\n",
       "    .dataframe tbody tr th:only-of-type {\n",
       "        vertical-align: middle;\n",
       "    }\n",
       "\n",
       "    .dataframe tbody tr th {\n",
       "        vertical-align: top;\n",
       "    }\n",
       "\n",
       "    .dataframe thead th {\n",
       "        text-align: right;\n",
       "    }\n",
       "</style>\n",
       "<table border=\"1\" class=\"dataframe\">\n",
       "  <thead>\n",
       "    <tr style=\"text-align: right;\">\n",
       "      <th></th>\n",
       "      <th>Id</th>\n",
       "      <th>AGE</th>\n",
       "      <th>MARRIED</th>\n",
       "      <th>MALE</th>\n",
       "    </tr>\n",
       "  </thead>\n",
       "  <tbody>\n",
       "    <tr>\n",
       "      <th>0</th>\n",
       "      <td>92a8c64e-8cd4-fe5d-ba9a-7da402646cf0</td>\n",
       "      <td>41</td>\n",
       "      <td>0</td>\n",
       "      <td>0</td>\n",
       "    </tr>\n",
       "    <tr>\n",
       "      <th>1</th>\n",
       "      <td>b0e16fc9-ba5a-7fe2-47f8-b0ed12cf0814</td>\n",
       "      <td>46</td>\n",
       "      <td>1</td>\n",
       "      <td>0</td>\n",
       "    </tr>\n",
       "    <tr>\n",
       "      <th>2</th>\n",
       "      <td>4bdf7658-6cc6-fa39-1265-c38365326997</td>\n",
       "      <td>38</td>\n",
       "      <td>1</td>\n",
       "      <td>1</td>\n",
       "    </tr>\n",
       "    <tr>\n",
       "      <th>3</th>\n",
       "      <td>f6e97f3f-40c3-940b-8432-7b012927ae3c</td>\n",
       "      <td>26</td>\n",
       "      <td>0</td>\n",
       "      <td>1</td>\n",
       "    </tr>\n",
       "    <tr>\n",
       "      <th>4</th>\n",
       "      <td>08d98ab4-4d82-e7dc-bfd3-00ad3ba43890</td>\n",
       "      <td>65</td>\n",
       "      <td>1</td>\n",
       "      <td>0</td>\n",
       "    </tr>\n",
       "    <tr>\n",
       "      <th>...</th>\n",
       "      <td>...</td>\n",
       "      <td>...</td>\n",
       "      <td>...</td>\n",
       "      <td>...</td>\n",
       "    </tr>\n",
       "    <tr>\n",
       "      <th>1041</th>\n",
       "      <td>35c15b8d-997e-b2db-c175-926ebd0f27e5</td>\n",
       "      <td>21</td>\n",
       "      <td>0</td>\n",
       "      <td>0</td>\n",
       "    </tr>\n",
       "    <tr>\n",
       "      <th>1042</th>\n",
       "      <td>82e45b1b-ccfc-1401-5239-1dfb70ab5217</td>\n",
       "      <td>45</td>\n",
       "      <td>1</td>\n",
       "      <td>0</td>\n",
       "    </tr>\n",
       "    <tr>\n",
       "      <th>1043</th>\n",
       "      <td>4043c6d8-dc5b-2f62-3725-4bdf46d3e35d</td>\n",
       "      <td>9</td>\n",
       "      <td>0</td>\n",
       "      <td>1</td>\n",
       "    </tr>\n",
       "    <tr>\n",
       "      <th>1044</th>\n",
       "      <td>1caff6b8-5dd3-ea72-1c3e-842ef23f1511</td>\n",
       "      <td>63</td>\n",
       "      <td>1</td>\n",
       "      <td>0</td>\n",
       "    </tr>\n",
       "    <tr>\n",
       "      <th>1045</th>\n",
       "      <td>a6f234b3-34b4-1acb-7560-34005d1519d0</td>\n",
       "      <td>58</td>\n",
       "      <td>1</td>\n",
       "      <td>1</td>\n",
       "    </tr>\n",
       "  </tbody>\n",
       "</table>\n",
       "<p>1046 rows × 4 columns</p>\n",
       "</div>"
      ],
      "text/plain": [
       "                                        Id  AGE  MARRIED  MALE\n",
       "0     92a8c64e-8cd4-fe5d-ba9a-7da402646cf0   41        0     0\n",
       "1     b0e16fc9-ba5a-7fe2-47f8-b0ed12cf0814   46        1     0\n",
       "2     4bdf7658-6cc6-fa39-1265-c38365326997   38        1     1\n",
       "3     f6e97f3f-40c3-940b-8432-7b012927ae3c   26        0     1\n",
       "4     08d98ab4-4d82-e7dc-bfd3-00ad3ba43890   65        1     0\n",
       "...                                    ...  ...      ...   ...\n",
       "1041  35c15b8d-997e-b2db-c175-926ebd0f27e5   21        0     0\n",
       "1042  82e45b1b-ccfc-1401-5239-1dfb70ab5217   45        1     0\n",
       "1043  4043c6d8-dc5b-2f62-3725-4bdf46d3e35d    9        0     1\n",
       "1044  1caff6b8-5dd3-ea72-1c3e-842ef23f1511   63        1     0\n",
       "1045  a6f234b3-34b4-1acb-7560-34005d1519d0   58        1     1\n",
       "\n",
       "[1046 rows x 4 columns]"
      ]
     },
     "execution_count": 128,
     "metadata": {},
     "output_type": "execute_result"
    }
   ],
   "source": [
    "patients_data"
   ]
  },
  {
   "cell_type": "code",
   "execution_count": 129,
   "metadata": {},
   "outputs": [
    {
     "data": {
      "text/plain": [
       "<AxesSubplot:ylabel='Frequency'>"
      ]
     },
     "execution_count": 129,
     "metadata": {},
     "output_type": "execute_result"
    },
    {
     "data": {
      "image/png": "[encoded data removed]",
      "text/plain": [
       "<Figure size 432x288 with 1 Axes>"
      ]
     },
     "metadata": {
      "needs_background": "light"
     },
     "output_type": "display_data"
    }
   ],
   "source": [
    "patients_data[\"AGE\"].plot.hist()"
   ]
  }
 ],
 "metadata": {
  "kernelspec": {
   "display_name": "Python 3",
   "language": "python",
   "name": "python3"
  },
  "language_info": {
   "codemirror_mode": {
    "name": "ipython",
    "version": 3
   },
   "file_extension": ".py",
   "mimetype": "text/x-python",
   "name": "python",
   "nbconvert_exporter": "python",
   "pygments_lexer": "ipython3",
   "version": "3.8.5"
  }
 },
 "nbformat": 4,
 "nbformat_minor": 4
}
